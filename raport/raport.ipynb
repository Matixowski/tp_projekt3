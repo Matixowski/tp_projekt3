{
 "cells": [
  {
   "cell_type": "markdown",
   "id": "42af6a9d-6a6c-4ff3-8da6-138d035f2c8a",
   "metadata": {},
   "source": [
    "# Techniki Programowania - Projekt 3"
   ]
  },
  {
   "cell_type": "markdown",
   "id": "f1cc7640-83de-48e9-b6b1-440b1996c38e",
   "metadata": {},
   "source": [
    "#### Mateusz Gniado 197888"
   ]
  },
  {
   "cell_type": "markdown",
   "id": "7769f7c5-04a7-4b85-b161-7fac7fd58503",
   "metadata": {},
   "source": [
    "#### Michał Sowiński 200783"
   ]
  },
  {
   "cell_type": "markdown",
   "id": "94c65bd1-108b-4b31-8fe0-e7349ca68ea7",
   "metadata": {},
   "source": [
    "Wykorzystane biblioteki:"
   ]
  },
  {
   "cell_type": "markdown",
   "id": "1132d892-046c-46e1-bd8d-3681d924ff70",
   "metadata": {},
   "source": [
    "- matplotplusplus (c++)"
   ]
  },
  {
   "cell_type": "markdown",
   "id": "cf5c7c22-ce64-4d2c-be8f-f97e917732a8",
   "metadata": {},
   "source": [
    "- vector (c++)"
   ]
  },
  {
   "cell_type": "markdown",
   "id": "e444cb4c-f974-4751-8aa6-562e44e039d0",
   "metadata": {},
   "source": [
    "- cmath (c++)"
   ]
  },
  {
   "cell_type": "markdown",
   "id": "b7ca629d-e6cc-446f-87c4-4a4bbdeccedf",
   "metadata": {},
   "source": [
    "- wave (python)"
   ]
  },
  {
   "cell_type": "markdown",
   "id": "bfb9da98-184e-43c2-bf1a-9b25d24f248e",
   "metadata": {},
   "source": [
    "- numpy (python)"
   ]
  },
  {
   "cell_type": "markdown",
   "id": "d39412f8-a09b-4236-803f-4e7c017a215f",
   "metadata": {},
   "source": [
    "- struct (python)"
   ]
  },
  {
   "cell_type": "markdown",
   "id": "6184f389-e192-4e03-87c8-d0e1ebbd6394",
   "metadata": {},
   "source": [
    "- cmath (python)"
   ]
  },
  {
   "cell_type": "markdown",
   "id": "2a81b3d1-a2e2-4be5-a21f-8a1444554e7a",
   "metadata": {},
   "source": [
    "# DFT"
   ]
  },
  {
   "cell_type": "markdown",
   "id": "e6421195-a347-4e8c-b97f-ccd133ced6a0",
   "metadata": {},
   "source": [
    "Przykład spektrum częstotliwości przy użyciu dyskretnej transformaty Fouriera:"
   ]
  },
  {
   "cell_type": "code",
   "execution_count": 1,
   "id": "3b626e4f-4a78-4a1b-bc7f-007064eb5dd8",
   "metadata": {},
   "outputs": [],
   "source": [
    "import numpy as np\n",
    "import scikit_build_example as sbe\n",
    "import wave\n",
    "import struct"
   ]
  },
  {
   "cell_type": "code",
   "execution_count": null,
   "id": "a56bc411",
   "metadata": {},
   "outputs": [],
   "source": [
    "f = 100\n",
    "N = 1000\n",
    "t = np.linspace(0, 2*np.pi, N)\n",
    "x = np.sin(f*t)\n",
    "s = sbe.dft(x, N)\n",
    "sbe.spectrum(s, N, N)\n",
    "#sin_spectrum.png"
   ]
  },
  {
   "cell_type": "markdown",
   "id": "2ed8c05e-54d0-4c16-b873-cc9ad7289480",
   "metadata": {},
   "source": [
    "![Sine spectrum](sin_spectrum.png)"
   ]
  },
  {
   "cell_type": "code",
   "execution_count": null,
   "id": "d3ec802a-7930-4e2f-99e3-150b0e6ba511",
   "metadata": {},
   "outputs": [],
   "source": [
    "f = 150\n",
    "N = 1000\n",
    "t = np.linspace(0, 2*np.pi, N)\n",
    "x = np.sin(f*t)\n",
    "s = sbe.dft(x, N)\n",
    "sbe.spectrum(s, N, N, \"full\")\n",
    "#sin_spectrum_full.png"
   ]
  },
  {
   "cell_type": "markdown",
   "id": "4d2642bd-c850-4362-aa43-e5afd3dafcd7",
   "metadata": {},
   "source": [
    "![Sine spectrum full](sin_spectrum_full.png)"
   ]
  },
  {
   "cell_type": "markdown",
   "id": "46be1c49-9155-40d6-aa53-b31dbd61fb0b",
   "metadata": {},
   "source": [
    "Spektrum częstotliwości z zaimportowanego pliku:"
   ]
  },
  {
   "cell_type": "code",
   "execution_count": null,
   "id": "40864d9e-b2bc-4f83-bed4-5e46306fbf80",
   "metadata": {},
   "outputs": [],
   "source": [
    "def read_wave(filename: str) -> list[float]:\n",
    "    with wave.open(filename) as f:\n",
    "        data = f.readframes(f.getnframes())\n",
    "        samples = struct.unpack('{n}h'.format(n=f.getnframes()*f.getnchannels()), data)\n",
    "    return samples\n",
    "\n",
    "audio = read_wave('square.wav')\n",
    "with wave.open('square.wav') as f:\n",
    "    rate = f.getframerate()\n",
    "x = sbe.dft(audio, 4410)\n",
    "\n",
    "sbe.spectrum(x, 4410, rate)"
   ]
  },
  {
   "cell_type": "markdown",
   "id": "008de601-7769-4988-a586-e2932665082b",
   "metadata": {},
   "source": [
    "![Square spectrum](square_spectrum.png)"
   ]
  },
  {
   "cell_type": "markdown",
   "id": "780a5098-5f75-4d1c-a4c6-aa86a1644f5a",
   "metadata": {},
   "source": [
    "Przykład transformaty odwrotnej:"
   ]
  },
  {
   "cell_type": "code",
   "execution_count": null,
   "id": "22dd3e74-4b01-49b5-bc37-5c4ba33d72ff",
   "metadata": {},
   "outputs": [],
   "source": [
    "import cmath\n",
    "frames = 441\n",
    "audio = read_wave('sine.wav')\n",
    "tmpa = []\n",
    "for x in range(frames):\n",
    "    tmpa.append(audio[x])\n",
    "sbe.plot(tmpa)\n",
    "#sine_pre_dft.png\n",
    "sinedft = sbe.dft(audio, frames)\n",
    "sineidft = sbe.idft(sinedft, frames)\n",
    "tmpb = []\n",
    "for x in range(frames):\n",
    "    tmpb.append(sineidft[x].real)\n",
    "sbe.plot(tmpb)\n",
    "#sine_after_idft.png\n"
   ]
  },
  {
   "cell_type": "markdown",
   "id": "5c2879c1-7451-4ee1-9eda-585d0de01447",
   "metadata": {},
   "source": [
    "![Sine wave pre DFT](sine_pre_dft.png)"
   ]
  },
  {
   "cell_type": "markdown",
   "id": "35c7fb78-80e6-4a22-83b0-a28c8ffb3166",
   "metadata": {},
   "source": [
    "![Sine wave after IDFT](sine_after_idft.png)"
   ]
  },
  {
   "cell_type": "markdown",
   "id": "1e8e4e4e-35bf-4619-85c8-cb41c521a53a",
   "metadata": {},
   "source": [
    "# Pochodna sygnału"
   ]
  },
  {
   "cell_type": "markdown",
   "id": "db83abdb-7c7e-4d29-a087-a9552ba5849a",
   "metadata": {},
   "source": [
    "Przykład pochodnej sygnału sinusoidalnego:"
   ]
  },
  {
   "cell_type": "code",
   "execution_count": null,
   "id": "343006b6-f6c2-4d04-9c4d-57e3ebc4b7fa",
   "metadata": {},
   "outputs": [],
   "source": [
    "audio = read_wave('sine.wav')\n",
    "a = []\n",
    "for x in range(441):\n",
    "    a.append(audio[x])\n",
    "sbe.plot(a)\n",
    "# sin_signal.png\n",
    "b = sbe.deriv(a,441)\n",
    "sbe.plot(b)\n",
    "# sin_deriv.png"
   ]
  },
  {
   "cell_type": "markdown",
   "id": "f85037c8-a389-4944-a4c5-2e68413ffbc9",
   "metadata": {},
   "source": [
    "![Sine signal](sin_signal.png)"
   ]
  },
  {
   "cell_type": "markdown",
   "id": "c02e7689-a127-42e2-863a-0d386616c452",
   "metadata": {},
   "source": [
    "![Sine signal derivative](sin_deriv.png)"
   ]
  },
  {
   "cell_type": "markdown",
   "id": "14e4a86d",
   "metadata": {},
   "source": [
    "# Generowanie sygnału sinusoidalnego"
   ]
  },
  {
   "cell_type": "markdown",
   "id": "969fe83f",
   "metadata": {},
   "source": [
    "Przykład generowania sygnału sinusoidalnego:"
   ]
  },
  {
   "cell_type": "code",
   "execution_count": 5,
   "id": "88f3a8c3",
   "metadata": {},
   "outputs": [],
   "source": [
    "t=np.linspace(0,10,1000)\n",
    "sinus=sbe.genSignal(t=t,type=\"sine\",amplitude=3.9,frequency=0.1)\n",
    "sbe.plot(sinus,t=t)\n",
    "#generated_sine.png"
   ]
  },
  {
   "cell_type": "markdown",
   "id": "2e0c0862",
   "metadata": {},
   "source": [
    "![Generated sine signal](generated_sine.png)"
   ]
  },
  {
   "cell_type": "markdown",
   "id": "1cda4b3e",
   "metadata": {},
   "source": [
    "Przykład generowania sygnału kosinusoidalnego:"
   ]
  },
  {
   "cell_type": "code",
   "execution_count": 2,
   "id": "20d963c5",
   "metadata": {},
   "outputs": [],
   "source": [
    "t=np.linspace(0,10,1000)\n",
    "cosinus=sbe.genSignal(t=t,type=\"cosine\",amplitude=2.7,frequency=0.2)\n",
    "sbe.plot(cosinus,t=t)\n",
    "#generated_cosine.png"
   ]
  },
  {
   "cell_type": "markdown",
   "id": "0da3c844",
   "metadata": {},
   "source": [
    "![Generated cosine signal](generated_cosine.png)"
   ]
  },
  {
   "cell_type": "markdown",
   "id": "73124531",
   "metadata": {},
   "source": [
    "# Generowanie sygnału prostokątnego"
   ]
  },
  {
   "cell_type": "markdown",
   "id": "86c376da",
   "metadata": {},
   "source": [
    "Przykład generowania sygnału prostokątnego:"
   ]
  },
  {
   "cell_type": "code",
   "execution_count": 2,
   "id": "5156834a",
   "metadata": {},
   "outputs": [],
   "source": [
    "t=np.linspace(0,10,1000)\n",
    "square=sbe.genSignal(t=t,type=\"square\",amplitude=8.95,frequency=0.4, phase_in_degrees=30)\n",
    "sbe.plot(square,t=t)\n",
    "#generated_square.png"
   ]
  },
  {
   "cell_type": "markdown",
   "id": "e4620846",
   "metadata": {},
   "source": [
    "![Generated square signal](generated_square.png)"
   ]
  },
  {
   "cell_type": "markdown",
   "id": "39e6b0ed",
   "metadata": {},
   "source": [
    "# Generowanie sygnału piłokształtnego"
   ]
  },
  {
   "cell_type": "markdown",
   "id": "c59af4b7",
   "metadata": {},
   "source": [
    "Przykład generowania sygnału piłokształtnego:"
   ]
  },
  {
   "cell_type": "code",
   "execution_count": null,
   "id": "4da5c964",
   "metadata": {},
   "outputs": [],
   "source": [
    "t=np.linspace(0,10,1000)\n",
    "sawtooth=sbe.genSignal(t=t,type=\"sawtooth\",amplitude=0.4,frequency=0.5, phase_in_degrees=-45)\n",
    "sbe.plot(sawtooth,t=t)\n",
    "#generated_sawtooth.png"
   ]
  },
  {
   "cell_type": "markdown",
   "id": "64b5ba75",
   "metadata": {},
   "source": [
    "![Generated sawtooth signal](generated_sawtooth.png)"
   ]
  }
 ],
 "metadata": {
  "kernelspec": {
   "display_name": "Python 3 (ipykernel)",
   "language": "python",
   "name": "python3"
  },
  "language_info": {
   "codemirror_mode": {
    "name": "ipython",
    "version": 3
   },
   "file_extension": ".py",
   "mimetype": "text/x-python",
   "name": "python",
   "nbconvert_exporter": "python",
   "pygments_lexer": "ipython3",
   "version": "3.11.9"
  }
 },
 "nbformat": 4,
 "nbformat_minor": 5
}
